{
  "nbformat": 4,
  "nbformat_minor": 0,
  "metadata": {
    "colab": {
      "provenance": [],
      "authorship_tag": "ABX9TyMkBcnWJxg6oAeO/Okx1KOM",
      "include_colab_link": true
    },
    "kernelspec": {
      "name": "python3",
      "display_name": "Python 3"
    },
    "language_info": {
      "name": "python"
    }
  },
  "cells": [
    {
      "cell_type": "markdown",
      "metadata": {
        "id": "view-in-github",
        "colab_type": "text"
      },
      "source": [
        "<a href=\"https://colab.research.google.com/github/unitxero/AIS-database-hackathon/blob/main/cyberpromptcode.ipynb\" target=\"_parent\"><img src=\"https://colab.research.google.com/assets/colab-badge.svg\" alt=\"Open In Colab\"/></a>"
      ]
    },
    {
      "cell_type": "code",
      "source": [
        "pip install cryptography\n"
      ],
      "metadata": {
        "colab": {
          "base_uri": "https://localhost:8080/"
        },
        "id": "jiokGLScrlVN",
        "outputId": "c380e8cc-e8a3-446e-8e50-068fbfccb4c5"
      },
      "execution_count": 1,
      "outputs": [
        {
          "output_type": "stream",
          "name": "stdout",
          "text": [
            "Looking in indexes: https://pypi.org/simple, https://us-python.pkg.dev/colab-wheels/public/simple/\n",
            "Requirement already satisfied: cryptography in /usr/local/lib/python3.9/dist-packages (40.0.2)\n",
            "Requirement already satisfied: cffi>=1.12 in /usr/local/lib/python3.9/dist-packages (from cryptography) (1.15.1)\n",
            "Requirement already satisfied: pycparser in /usr/local/lib/python3.9/dist-packages (from cffi>=1.12->cryptography) (2.21)\n"
          ]
        }
      ]
    },
    {
      "cell_type": "code",
      "source": [
        "from cryptography.fernet import Fernet"
      ],
      "metadata": {
        "id": "fXLCbr39rmsC"
      },
      "execution_count": 2,
      "outputs": []
    },
    {
      "cell_type": "code",
      "source": [
        "# key generation\n",
        "key = Fernet.generate_key()\n",
        " \n",
        "# string the key in a file\n",
        "with open('filekey.key', 'wb') as filekey:\n",
        "   filekey.write(key)"
      ],
      "metadata": {
        "id": "Qff3TWmMrsVg"
      },
      "execution_count": 3,
      "outputs": []
    },
    {
      "cell_type": "code",
      "source": [
        "# opening the key\n",
        "with open('filekey.key', 'rb') as filekey:\n",
        "\tkey = filekey.read()\n",
        "\n",
        "# using the generated key\n",
        "fernet = Fernet(key)\n",
        "\n",
        "# opening the original file to encrypt\n",
        "with open('beta-version3-users.txt', 'rb') as file:\n",
        "\toriginal = file.read()\n",
        "\t\n",
        "# encrypting the file\n",
        "encrypted = fernet.encrypt(original)\n",
        "\n",
        "# opening the file in write mode and\n",
        "# writing the encrypted data\n",
        "with open('beta-version3-users.txt', 'wb') as encrypted_file:\n",
        "\tencrypted_file.write(encrypted)\n"
      ],
      "metadata": {
        "id": "8C6YvEqAr82n"
      },
      "execution_count": 4,
      "outputs": []
    },
    {
      "cell_type": "code",
      "source": [
        "# using the key\n",
        "fernet = Fernet(key)\n",
        "\n",
        "# opening the encrypted file\n",
        "with open('beta-version3-users.txt', 'rb') as enc_file:\n",
        "\tencrypted = enc_file.read()\n",
        "\n",
        "# decrypting the file\n",
        "decrypted = fernet.decrypt(encrypted)\n",
        "\n",
        "# opening the file in write mode and\n",
        "# writing the decrypted data\n",
        "with open('beta-version3-users.txt', 'wb') as dec_file:\n",
        "\tdec_file.write(decrypted)\n"
      ],
      "metadata": {
        "id": "3KNy42ndsUIA"
      },
      "execution_count": 5,
      "outputs": []
    }
  ]
}